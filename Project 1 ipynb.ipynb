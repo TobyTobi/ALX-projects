{
 "cells": [
  {
   "cell_type": "markdown",
   "metadata": {},
   "source": [
    "# Project: Investigating the TMDB movie dataset by Tobiloba Babajide\n",
    "\n",
    "## Table of Contents\n",
    "<ul>\n",
    "<li><a href=\"#intro\">Introduction</a></li>\n",
    "<li><a href=\"#wrangling\">Data Wrangling</a></li>\n",
    "<li><a href=\"#eda\">Exploratory Data Analysis</a></li>\n",
    "<li><a href=\"#conclusions\">Conclusions</a></li>\n",
    "</ul>"
   ]
  },
  {
   "cell_type": "markdown",
   "metadata": {},
   "source": [
    "<a id='intro'></a>\n",
    "## Introduction\n",
    "\n",
    "> In this report, I investigated the TMDB movie dataset to identify trends and patterns in the data.\n",
    "The dataset contains specific data about over 10,000 movies and in this investigation, I will identify the relationships between the parameters.\n",
    ">\n",
    "> In this investigation, I will identify the relationships between genre of the movie, the allocated budget, the revenue generated, and the runtime of the movie. The following questions will be answered:\n",
    "> 1. Does the budget of a movie correlate with how well it does based on its average rating?\n",
    "> 2. Does budget correlate with revenue?\n",
    "> 3. Do longer movies have higher ratings?\n",
    "> 4. Do longer movies have higher revenue?\n",
    "> 5. Do higher earning movies have higher ratings?\n",
    ">\n",
    "> Some things to note about the dataset:\n",
    "> 1. The \"popularity\" scores are between 0 and 40.\n",
    "> 2. The values in the \"vote\" column are between 0 and 10.\n",
    "> 3. The \"runtime\" values are in minutes.\n",
    "> 4. The budgets and revenues are given in dollars.\n",
    "> 5. The budget_adj and revenue_adj columns represent the budget and revenue adjusted for inflation.\n",
    ">\n",
    "> The data was downloaded from this link:\n",
    "https://www.google.com/url?q=https://d17h27t6h515a5.cloudfront.net/topher/2017/October/59dd1c4c_tmdb-movies/tmdb-movies.csv&sa=D&ust=1532469042115000\n",
    "> Let us begin!"
   ]
  },
  {
   "cell_type": "markdown",
   "metadata": {},
   "source": [
    "First, I imported the necessary packages:"
   ]
  },
  {
   "cell_type": "code",
   "execution_count": 1,
   "metadata": {},
   "outputs": [],
   "source": [
    "# import the pondas, numpy, and matplotlib packages\n",
    "import pandas as pd\n",
    "import numpy as np\n",
    "import matplotlib.pyplot as plt\n",
    "\n",
    "# Include the \"matplotlib inline\" statement so that visualizations are plotted inline\n",
    "%matplotlib inline"
   ]
  },
  {
   "cell_type": "markdown",
   "metadata": {},
   "source": [
    "<a id='wrangling'></a>\n",
    "## Data Wrangling\n",
    "\n",
    "> I loaded in the data from my local computer, checked for cleanliness, and then trimmed and cleaned it further for analysis."
   ]
  },
  {
   "cell_type": "code",
   "execution_count": 2,
   "metadata": {},
   "outputs": [],
   "source": [
    "# Load the data\n",
    "df = pd.read_csv(r'C:\\Users\\USER\\Desktop\\Data Analysis Career\\ALX Nanodegree Program\\Project\\tmdb-movies.csv')"
   ]
  },
  {
   "cell_type": "code",
   "execution_count": 3,
   "metadata": {},
   "outputs": [
    {
     "data": {
      "text/html": [
       "<div>\n",
       "<style scoped>\n",
       "    .dataframe tbody tr th:only-of-type {\n",
       "        vertical-align: middle;\n",
       "    }\n",
       "\n",
       "    .dataframe tbody tr th {\n",
       "        vertical-align: top;\n",
       "    }\n",
       "\n",
       "    .dataframe thead th {\n",
       "        text-align: right;\n",
       "    }\n",
       "</style>\n",
       "<table border=\"1\" class=\"dataframe\">\n",
       "  <thead>\n",
       "    <tr style=\"text-align: right;\">\n",
       "      <th></th>\n",
       "      <th>id</th>\n",
       "      <th>imdb_id</th>\n",
       "      <th>popularity</th>\n",
       "      <th>budget</th>\n",
       "      <th>revenue</th>\n",
       "      <th>original_title</th>\n",
       "      <th>cast</th>\n",
       "      <th>homepage</th>\n",
       "      <th>director</th>\n",
       "      <th>tagline</th>\n",
       "      <th>...</th>\n",
       "      <th>overview</th>\n",
       "      <th>runtime</th>\n",
       "      <th>genres</th>\n",
       "      <th>production_companies</th>\n",
       "      <th>release_date</th>\n",
       "      <th>vote_count</th>\n",
       "      <th>vote_average</th>\n",
       "      <th>release_year</th>\n",
       "      <th>budget_adj</th>\n",
       "      <th>revenue_adj</th>\n",
       "    </tr>\n",
       "  </thead>\n",
       "  <tbody>\n",
       "    <tr>\n",
       "      <th>0</th>\n",
       "      <td>135397</td>\n",
       "      <td>tt0369610</td>\n",
       "      <td>32.985763</td>\n",
       "      <td>150000000</td>\n",
       "      <td>1513528810</td>\n",
       "      <td>Jurassic World</td>\n",
       "      <td>Chris Pratt|Bryce Dallas Howard|Irrfan Khan|Vi...</td>\n",
       "      <td>http://www.jurassicworld.com/</td>\n",
       "      <td>Colin Trevorrow</td>\n",
       "      <td>The park is open.</td>\n",
       "      <td>...</td>\n",
       "      <td>Twenty-two years after the events of Jurassic ...</td>\n",
       "      <td>124</td>\n",
       "      <td>Action|Adventure|Science Fiction|Thriller</td>\n",
       "      <td>Universal Studios|Amblin Entertainment|Legenda...</td>\n",
       "      <td>6/9/15</td>\n",
       "      <td>5562</td>\n",
       "      <td>6.5</td>\n",
       "      <td>2015</td>\n",
       "      <td>1.379999e+08</td>\n",
       "      <td>1.392446e+09</td>\n",
       "    </tr>\n",
       "    <tr>\n",
       "      <th>1</th>\n",
       "      <td>76341</td>\n",
       "      <td>tt1392190</td>\n",
       "      <td>28.419936</td>\n",
       "      <td>150000000</td>\n",
       "      <td>378436354</td>\n",
       "      <td>Mad Max: Fury Road</td>\n",
       "      <td>Tom Hardy|Charlize Theron|Hugh Keays-Byrne|Nic...</td>\n",
       "      <td>http://www.madmaxmovie.com/</td>\n",
       "      <td>George Miller</td>\n",
       "      <td>What a Lovely Day.</td>\n",
       "      <td>...</td>\n",
       "      <td>An apocalyptic story set in the furthest reach...</td>\n",
       "      <td>120</td>\n",
       "      <td>Action|Adventure|Science Fiction|Thriller</td>\n",
       "      <td>Village Roadshow Pictures|Kennedy Miller Produ...</td>\n",
       "      <td>5/13/15</td>\n",
       "      <td>6185</td>\n",
       "      <td>7.1</td>\n",
       "      <td>2015</td>\n",
       "      <td>1.379999e+08</td>\n",
       "      <td>3.481613e+08</td>\n",
       "    </tr>\n",
       "    <tr>\n",
       "      <th>2</th>\n",
       "      <td>262500</td>\n",
       "      <td>tt2908446</td>\n",
       "      <td>13.112507</td>\n",
       "      <td>110000000</td>\n",
       "      <td>295238201</td>\n",
       "      <td>Insurgent</td>\n",
       "      <td>Shailene Woodley|Theo James|Kate Winslet|Ansel...</td>\n",
       "      <td>http://www.thedivergentseries.movie/#insurgent</td>\n",
       "      <td>Robert Schwentke</td>\n",
       "      <td>One Choice Can Destroy You</td>\n",
       "      <td>...</td>\n",
       "      <td>Beatrice Prior must confront her inner demons ...</td>\n",
       "      <td>119</td>\n",
       "      <td>Adventure|Science Fiction|Thriller</td>\n",
       "      <td>Summit Entertainment|Mandeville Films|Red Wago...</td>\n",
       "      <td>3/18/15</td>\n",
       "      <td>2480</td>\n",
       "      <td>6.3</td>\n",
       "      <td>2015</td>\n",
       "      <td>1.012000e+08</td>\n",
       "      <td>2.716190e+08</td>\n",
       "    </tr>\n",
       "  </tbody>\n",
       "</table>\n",
       "<p>3 rows × 21 columns</p>\n",
       "</div>"
      ],
      "text/plain": [
       "       id    imdb_id  popularity     budget     revenue      original_title  \\\n",
       "0  135397  tt0369610   32.985763  150000000  1513528810      Jurassic World   \n",
       "1   76341  tt1392190   28.419936  150000000   378436354  Mad Max: Fury Road   \n",
       "2  262500  tt2908446   13.112507  110000000   295238201           Insurgent   \n",
       "\n",
       "                                                cast  \\\n",
       "0  Chris Pratt|Bryce Dallas Howard|Irrfan Khan|Vi...   \n",
       "1  Tom Hardy|Charlize Theron|Hugh Keays-Byrne|Nic...   \n",
       "2  Shailene Woodley|Theo James|Kate Winslet|Ansel...   \n",
       "\n",
       "                                         homepage          director  \\\n",
       "0                   http://www.jurassicworld.com/   Colin Trevorrow   \n",
       "1                     http://www.madmaxmovie.com/     George Miller   \n",
       "2  http://www.thedivergentseries.movie/#insurgent  Robert Schwentke   \n",
       "\n",
       "                      tagline  ...  \\\n",
       "0           The park is open.  ...   \n",
       "1          What a Lovely Day.  ...   \n",
       "2  One Choice Can Destroy You  ...   \n",
       "\n",
       "                                            overview runtime  \\\n",
       "0  Twenty-two years after the events of Jurassic ...     124   \n",
       "1  An apocalyptic story set in the furthest reach...     120   \n",
       "2  Beatrice Prior must confront her inner demons ...     119   \n",
       "\n",
       "                                      genres  \\\n",
       "0  Action|Adventure|Science Fiction|Thriller   \n",
       "1  Action|Adventure|Science Fiction|Thriller   \n",
       "2         Adventure|Science Fiction|Thriller   \n",
       "\n",
       "                                production_companies release_date vote_count  \\\n",
       "0  Universal Studios|Amblin Entertainment|Legenda...       6/9/15       5562   \n",
       "1  Village Roadshow Pictures|Kennedy Miller Produ...      5/13/15       6185   \n",
       "2  Summit Entertainment|Mandeville Films|Red Wago...      3/18/15       2480   \n",
       "\n",
       "   vote_average  release_year    budget_adj   revenue_adj  \n",
       "0           6.5          2015  1.379999e+08  1.392446e+09  \n",
       "1           7.1          2015  1.379999e+08  3.481613e+08  \n",
       "2           6.3          2015  1.012000e+08  2.716190e+08  \n",
       "\n",
       "[3 rows x 21 columns]"
      ]
     },
     "execution_count": 3,
     "metadata": {},
     "output_type": "execute_result"
    }
   ],
   "source": [
    "# Print out a few lines at the top.\n",
    "df.head(3)"
   ]
  },
  {
   "cell_type": "code",
   "execution_count": 4,
   "metadata": {},
   "outputs": [
    {
     "data": {
      "text/html": [
       "<div>\n",
       "<style scoped>\n",
       "    .dataframe tbody tr th:only-of-type {\n",
       "        vertical-align: middle;\n",
       "    }\n",
       "\n",
       "    .dataframe tbody tr th {\n",
       "        vertical-align: top;\n",
       "    }\n",
       "\n",
       "    .dataframe thead th {\n",
       "        text-align: right;\n",
       "    }\n",
       "</style>\n",
       "<table border=\"1\" class=\"dataframe\">\n",
       "  <thead>\n",
       "    <tr style=\"text-align: right;\">\n",
       "      <th></th>\n",
       "      <th>id</th>\n",
       "      <th>imdb_id</th>\n",
       "      <th>popularity</th>\n",
       "      <th>budget</th>\n",
       "      <th>revenue</th>\n",
       "      <th>original_title</th>\n",
       "      <th>cast</th>\n",
       "      <th>homepage</th>\n",
       "      <th>director</th>\n",
       "      <th>tagline</th>\n",
       "      <th>...</th>\n",
       "      <th>overview</th>\n",
       "      <th>runtime</th>\n",
       "      <th>genres</th>\n",
       "      <th>production_companies</th>\n",
       "      <th>release_date</th>\n",
       "      <th>vote_count</th>\n",
       "      <th>vote_average</th>\n",
       "      <th>release_year</th>\n",
       "      <th>budget_adj</th>\n",
       "      <th>revenue_adj</th>\n",
       "    </tr>\n",
       "  </thead>\n",
       "  <tbody>\n",
       "    <tr>\n",
       "      <th>10863</th>\n",
       "      <td>39768</td>\n",
       "      <td>tt0060161</td>\n",
       "      <td>0.065141</td>\n",
       "      <td>0</td>\n",
       "      <td>0</td>\n",
       "      <td>Beregis Avtomobilya</td>\n",
       "      <td>Innokentiy Smoktunovskiy|Oleg Efremov|Georgi Z...</td>\n",
       "      <td>NaN</td>\n",
       "      <td>Eldar Ryazanov</td>\n",
       "      <td>NaN</td>\n",
       "      <td>...</td>\n",
       "      <td>An insurance agent who moonlights as a carthie...</td>\n",
       "      <td>94</td>\n",
       "      <td>Mystery|Comedy</td>\n",
       "      <td>Mosfilm</td>\n",
       "      <td>1/1/66</td>\n",
       "      <td>11</td>\n",
       "      <td>6.5</td>\n",
       "      <td>1966</td>\n",
       "      <td>0.000000</td>\n",
       "      <td>0.0</td>\n",
       "    </tr>\n",
       "    <tr>\n",
       "      <th>10864</th>\n",
       "      <td>21449</td>\n",
       "      <td>tt0061177</td>\n",
       "      <td>0.064317</td>\n",
       "      <td>0</td>\n",
       "      <td>0</td>\n",
       "      <td>What's Up, Tiger Lily?</td>\n",
       "      <td>Tatsuya Mihashi|Akiko Wakabayashi|Mie Hama|Joh...</td>\n",
       "      <td>NaN</td>\n",
       "      <td>Woody Allen</td>\n",
       "      <td>WOODY ALLEN STRIKES BACK!</td>\n",
       "      <td>...</td>\n",
       "      <td>In comic Woody Allen's film debut, he took the...</td>\n",
       "      <td>80</td>\n",
       "      <td>Action|Comedy</td>\n",
       "      <td>Benedict Pictures Corp.</td>\n",
       "      <td>11/2/66</td>\n",
       "      <td>22</td>\n",
       "      <td>5.4</td>\n",
       "      <td>1966</td>\n",
       "      <td>0.000000</td>\n",
       "      <td>0.0</td>\n",
       "    </tr>\n",
       "    <tr>\n",
       "      <th>10865</th>\n",
       "      <td>22293</td>\n",
       "      <td>tt0060666</td>\n",
       "      <td>0.035919</td>\n",
       "      <td>19000</td>\n",
       "      <td>0</td>\n",
       "      <td>Manos: The Hands of Fate</td>\n",
       "      <td>Harold P. Warren|Tom Neyman|John Reynolds|Dian...</td>\n",
       "      <td>NaN</td>\n",
       "      <td>Harold P. Warren</td>\n",
       "      <td>It's Shocking! It's Beyond Your Imagination!</td>\n",
       "      <td>...</td>\n",
       "      <td>A family gets lost on the road and stumbles up...</td>\n",
       "      <td>74</td>\n",
       "      <td>Horror</td>\n",
       "      <td>Norm-Iris</td>\n",
       "      <td>11/15/66</td>\n",
       "      <td>15</td>\n",
       "      <td>1.5</td>\n",
       "      <td>1966</td>\n",
       "      <td>127642.279154</td>\n",
       "      <td>0.0</td>\n",
       "    </tr>\n",
       "  </tbody>\n",
       "</table>\n",
       "<p>3 rows × 21 columns</p>\n",
       "</div>"
      ],
      "text/plain": [
       "          id    imdb_id  popularity  budget  revenue  \\\n",
       "10863  39768  tt0060161    0.065141       0        0   \n",
       "10864  21449  tt0061177    0.064317       0        0   \n",
       "10865  22293  tt0060666    0.035919   19000        0   \n",
       "\n",
       "                 original_title  \\\n",
       "10863       Beregis Avtomobilya   \n",
       "10864    What's Up, Tiger Lily?   \n",
       "10865  Manos: The Hands of Fate   \n",
       "\n",
       "                                                    cast homepage  \\\n",
       "10863  Innokentiy Smoktunovskiy|Oleg Efremov|Georgi Z...      NaN   \n",
       "10864  Tatsuya Mihashi|Akiko Wakabayashi|Mie Hama|Joh...      NaN   \n",
       "10865  Harold P. Warren|Tom Neyman|John Reynolds|Dian...      NaN   \n",
       "\n",
       "               director                                       tagline  ...  \\\n",
       "10863    Eldar Ryazanov                                           NaN  ...   \n",
       "10864       Woody Allen                     WOODY ALLEN STRIKES BACK!  ...   \n",
       "10865  Harold P. Warren  It's Shocking! It's Beyond Your Imagination!  ...   \n",
       "\n",
       "                                                overview runtime  \\\n",
       "10863  An insurance agent who moonlights as a carthie...      94   \n",
       "10864  In comic Woody Allen's film debut, he took the...      80   \n",
       "10865  A family gets lost on the road and stumbles up...      74   \n",
       "\n",
       "               genres     production_companies release_date vote_count  \\\n",
       "10863  Mystery|Comedy                  Mosfilm       1/1/66         11   \n",
       "10864   Action|Comedy  Benedict Pictures Corp.      11/2/66         22   \n",
       "10865          Horror                Norm-Iris     11/15/66         15   \n",
       "\n",
       "       vote_average  release_year     budget_adj  revenue_adj  \n",
       "10863           6.5          1966       0.000000          0.0  \n",
       "10864           5.4          1966       0.000000          0.0  \n",
       "10865           1.5          1966  127642.279154          0.0  \n",
       "\n",
       "[3 rows x 21 columns]"
      ]
     },
     "execution_count": 4,
     "metadata": {},
     "output_type": "execute_result"
    }
   ],
   "source": [
    "# Print out a few lines at the bottom.\n",
    "df.tail(3)"
   ]
  },
  {
   "cell_type": "code",
   "execution_count": 5,
   "metadata": {},
   "outputs": [
    {
     "name": "stdout",
     "output_type": "stream",
     "text": [
      "(10866, 21)\n",
      "<class 'pandas.core.frame.DataFrame'>\n",
      "RangeIndex: 10866 entries, 0 to 10865\n",
      "Data columns (total 21 columns):\n",
      " #   Column                Non-Null Count  Dtype  \n",
      "---  ------                --------------  -----  \n",
      " 0   id                    10866 non-null  int64  \n",
      " 1   imdb_id               10856 non-null  object \n",
      " 2   popularity            10866 non-null  float64\n",
      " 3   budget                10866 non-null  int64  \n",
      " 4   revenue               10866 non-null  int64  \n",
      " 5   original_title        10866 non-null  object \n",
      " 6   cast                  10790 non-null  object \n",
      " 7   homepage              2936 non-null   object \n",
      " 8   director              10822 non-null  object \n",
      " 9   tagline               8042 non-null   object \n",
      " 10  keywords              9373 non-null   object \n",
      " 11  overview              10862 non-null  object \n",
      " 12  runtime               10866 non-null  int64  \n",
      " 13  genres                10843 non-null  object \n",
      " 14  production_companies  9836 non-null   object \n",
      " 15  release_date          10866 non-null  object \n",
      " 16  vote_count            10866 non-null  int64  \n",
      " 17  vote_average          10866 non-null  float64\n",
      " 18  release_year          10866 non-null  int64  \n",
      " 19  budget_adj            10866 non-null  float64\n",
      " 20  revenue_adj           10866 non-null  float64\n",
      "dtypes: float64(4), int64(6), object(11)\n",
      "memory usage: 1.7+ MB\n"
     ]
    }
   ],
   "source": [
    "# Inspect the data\n",
    "print(df.shape)\n",
    "df.info()"
   ]
  },
  {
   "cell_type": "markdown",
   "metadata": {},
   "source": [
    "There are 10866 rows of movie data and there are 21 columns describing them.\n",
    "\n",
    "Now, look at the column names:"
   ]
  },
  {
   "cell_type": "code",
   "execution_count": 6,
   "metadata": {
    "scrolled": true
   },
   "outputs": [
    {
     "name": "stdout",
     "output_type": "stream",
     "text": [
      "Index(['id', 'imdb_id', 'popularity', 'budget', 'revenue', 'original_title',\n",
      "       'cast', 'homepage', 'director', 'tagline', 'keywords', 'overview',\n",
      "       'runtime', 'genres', 'production_companies', 'release_date',\n",
      "       'vote_count', 'vote_average', 'release_year', 'budget_adj',\n",
      "       'revenue_adj'],\n",
      "      dtype='object')\n"
     ]
    }
   ],
   "source": [
    "# Column names\n",
    "print(df.columns)"
   ]
  },
  {
   "cell_type": "markdown",
   "metadata": {},
   "source": [
    "### Data Cleaning"
   ]
  },
  {
   "cell_type": "markdown",
   "metadata": {},
   "source": [
    "I deleted the columns that will not be needed for the analysis:"
   ]
  },
  {
   "cell_type": "code",
   "execution_count": 7,
   "metadata": {},
   "outputs": [],
   "source": [
    "# Delete unnecessary columns\n",
    "df.drop(columns=['imdb_id','cast','homepage','director','tagline','keywords',\n",
    "                 'overview','production_companies','release_date'], inplace=True, axis=1)"
   ]
  },
  {
   "cell_type": "code",
   "execution_count": 8,
   "metadata": {},
   "outputs": [
    {
     "data": {
      "text/html": [
       "<div>\n",
       "<style scoped>\n",
       "    .dataframe tbody tr th:only-of-type {\n",
       "        vertical-align: middle;\n",
       "    }\n",
       "\n",
       "    .dataframe tbody tr th {\n",
       "        vertical-align: top;\n",
       "    }\n",
       "\n",
       "    .dataframe thead th {\n",
       "        text-align: right;\n",
       "    }\n",
       "</style>\n",
       "<table border=\"1\" class=\"dataframe\">\n",
       "  <thead>\n",
       "    <tr style=\"text-align: right;\">\n",
       "      <th></th>\n",
       "      <th>id</th>\n",
       "      <th>popularity</th>\n",
       "      <th>budget</th>\n",
       "      <th>revenue</th>\n",
       "      <th>original_title</th>\n",
       "      <th>runtime</th>\n",
       "      <th>genres</th>\n",
       "      <th>vote_count</th>\n",
       "      <th>vote_average</th>\n",
       "      <th>release_year</th>\n",
       "      <th>budget_adj</th>\n",
       "      <th>revenue_adj</th>\n",
       "    </tr>\n",
       "  </thead>\n",
       "  <tbody>\n",
       "    <tr>\n",
       "      <th>0</th>\n",
       "      <td>135397</td>\n",
       "      <td>32.985763</td>\n",
       "      <td>150000000</td>\n",
       "      <td>1513528810</td>\n",
       "      <td>Jurassic World</td>\n",
       "      <td>124</td>\n",
       "      <td>Action|Adventure|Science Fiction|Thriller</td>\n",
       "      <td>5562</td>\n",
       "      <td>6.5</td>\n",
       "      <td>2015</td>\n",
       "      <td>1.379999e+08</td>\n",
       "      <td>1.392446e+09</td>\n",
       "    </tr>\n",
       "    <tr>\n",
       "      <th>1</th>\n",
       "      <td>76341</td>\n",
       "      <td>28.419936</td>\n",
       "      <td>150000000</td>\n",
       "      <td>378436354</td>\n",
       "      <td>Mad Max: Fury Road</td>\n",
       "      <td>120</td>\n",
       "      <td>Action|Adventure|Science Fiction|Thriller</td>\n",
       "      <td>6185</td>\n",
       "      <td>7.1</td>\n",
       "      <td>2015</td>\n",
       "      <td>1.379999e+08</td>\n",
       "      <td>3.481613e+08</td>\n",
       "    </tr>\n",
       "  </tbody>\n",
       "</table>\n",
       "</div>"
      ],
      "text/plain": [
       "       id  popularity     budget     revenue      original_title  runtime  \\\n",
       "0  135397   32.985763  150000000  1513528810      Jurassic World      124   \n",
       "1   76341   28.419936  150000000   378436354  Mad Max: Fury Road      120   \n",
       "\n",
       "                                      genres  vote_count  vote_average  \\\n",
       "0  Action|Adventure|Science Fiction|Thriller        5562           6.5   \n",
       "1  Action|Adventure|Science Fiction|Thriller        6185           7.1   \n",
       "\n",
       "   release_year    budget_adj   revenue_adj  \n",
       "0          2015  1.379999e+08  1.392446e+09  \n",
       "1          2015  1.379999e+08  3.481613e+08  "
      ]
     },
     "execution_count": 8,
     "metadata": {},
     "output_type": "execute_result"
    }
   ],
   "source": [
    "# Check the data again:\n",
    "df.head(2)"
   ]
  },
  {
   "cell_type": "code",
   "execution_count": 9,
   "metadata": {},
   "outputs": [
    {
     "name": "stdout",
     "output_type": "stream",
     "text": [
      "(10866, 12)\n",
      "<class 'pandas.core.frame.DataFrame'>\n",
      "RangeIndex: 10866 entries, 0 to 10865\n",
      "Data columns (total 12 columns):\n",
      " #   Column          Non-Null Count  Dtype  \n",
      "---  ------          --------------  -----  \n",
      " 0   id              10866 non-null  int64  \n",
      " 1   popularity      10866 non-null  float64\n",
      " 2   budget          10866 non-null  int64  \n",
      " 3   revenue         10866 non-null  int64  \n",
      " 4   original_title  10866 non-null  object \n",
      " 5   runtime         10866 non-null  int64  \n",
      " 6   genres          10843 non-null  object \n",
      " 7   vote_count      10866 non-null  int64  \n",
      " 8   vote_average    10866 non-null  float64\n",
      " 9   release_year    10866 non-null  int64  \n",
      " 10  budget_adj      10866 non-null  float64\n",
      " 11  revenue_adj     10866 non-null  float64\n",
      "dtypes: float64(4), int64(6), object(2)\n",
      "memory usage: 1018.8+ KB\n"
     ]
    }
   ],
   "source": [
    "print(df.shape)\n",
    "df.info()"
   ]
  },
  {
   "cell_type": "markdown",
   "metadata": {},
   "source": [
    "The columns are down to 12.\n",
    "However, there is a column with 23 missing values, so I had to drop the rows that contain them:"
   ]
  },
  {
   "cell_type": "code",
   "execution_count": 10,
   "metadata": {},
   "outputs": [],
   "source": [
    "# drop rows with null values\n",
    "df.dropna(axis=0, inplace=True)"
   ]
  },
  {
   "cell_type": "code",
   "execution_count": 11,
   "metadata": {
    "scrolled": false
   },
   "outputs": [
    {
     "name": "stdout",
     "output_type": "stream",
     "text": [
      "(10843, 12)\n",
      "<class 'pandas.core.frame.DataFrame'>\n",
      "Int64Index: 10843 entries, 0 to 10865\n",
      "Data columns (total 12 columns):\n",
      " #   Column          Non-Null Count  Dtype  \n",
      "---  ------          --------------  -----  \n",
      " 0   id              10843 non-null  int64  \n",
      " 1   popularity      10843 non-null  float64\n",
      " 2   budget          10843 non-null  int64  \n",
      " 3   revenue         10843 non-null  int64  \n",
      " 4   original_title  10843 non-null  object \n",
      " 5   runtime         10843 non-null  int64  \n",
      " 6   genres          10843 non-null  object \n",
      " 7   vote_count      10843 non-null  int64  \n",
      " 8   vote_average    10843 non-null  float64\n",
      " 9   release_year    10843 non-null  int64  \n",
      " 10  budget_adj      10843 non-null  float64\n",
      " 11  revenue_adj     10843 non-null  float64\n",
      "dtypes: float64(4), int64(6), object(2)\n",
      "memory usage: 1.1+ MB\n"
     ]
    }
   ],
   "source": [
    "print(df.shape)\n",
    "df.info()"
   ]
  },
  {
   "cell_type": "markdown",
   "metadata": {},
   "source": [
    "Now, there are 10843 rows.\n",
    "\n",
    "I checked if there are duplicate rows in the data:"
   ]
  },
  {
   "cell_type": "code",
   "execution_count": 12,
   "metadata": {},
   "outputs": [
    {
     "data": {
      "text/plain": [
       "id                10842\n",
       "popularity        10791\n",
       "budget              557\n",
       "revenue            4702\n",
       "original_title    10548\n",
       "runtime             246\n",
       "genres             2039\n",
       "vote_count         1289\n",
       "vote_average         72\n",
       "release_year         56\n",
       "budget_adj         2613\n",
       "revenue_adj        4840\n",
       "dtype: int64"
      ]
     },
     "execution_count": 12,
     "metadata": {},
     "output_type": "execute_result"
    }
   ],
   "source": [
    "df.nunique()"
   ]
  },
  {
   "cell_type": "markdown",
   "metadata": {},
   "source": [
    "Notice that there are duplicate original titles in 295 rows. I deleted these duplicate rows:"
   ]
  },
  {
   "cell_type": "code",
   "execution_count": 13,
   "metadata": {},
   "outputs": [],
   "source": [
    "df = df.drop_duplicates(subset='original_title', keep='first')"
   ]
  },
  {
   "cell_type": "markdown",
   "metadata": {},
   "source": [
    "Check again:"
   ]
  },
  {
   "cell_type": "code",
   "execution_count": 14,
   "metadata": {},
   "outputs": [
    {
     "data": {
      "text/plain": [
       "id                10548\n",
       "popularity        10500\n",
       "budget              551\n",
       "revenue            4590\n",
       "original_title    10548\n",
       "runtime             242\n",
       "genres             1999\n",
       "vote_count         1277\n",
       "vote_average         72\n",
       "release_year         56\n",
       "budget_adj         2554\n",
       "revenue_adj        4718\n",
       "dtype: int64"
      ]
     },
     "execution_count": 14,
     "metadata": {},
     "output_type": "execute_result"
    }
   ],
   "source": [
    "df.nunique()"
   ]
  },
  {
   "cell_type": "markdown",
   "metadata": {},
   "source": [
    "I needed to delete rows in which the budget and revenue values are 0 because this indicates that there are missing information about these movies and they will tamper with our analysis:"
   ]
  },
  {
   "cell_type": "code",
   "execution_count": 15,
   "metadata": {},
   "outputs": [],
   "source": [
    "df.drop(df[df['budget'] == 0].index, inplace = True)\n",
    "df.drop(df[df['revenue'] == 0].index, inplace = True)"
   ]
  },
  {
   "cell_type": "markdown",
   "metadata": {},
   "source": [
    "I proceeded to describe the data using summary statistics:"
   ]
  },
  {
   "cell_type": "code",
   "execution_count": 16,
   "metadata": {
    "scrolled": true
   },
   "outputs": [
    {
     "data": {
      "text/html": [
       "<div>\n",
       "<style scoped>\n",
       "    .dataframe tbody tr th:only-of-type {\n",
       "        vertical-align: middle;\n",
       "    }\n",
       "\n",
       "    .dataframe tbody tr th {\n",
       "        vertical-align: top;\n",
       "    }\n",
       "\n",
       "    .dataframe thead th {\n",
       "        text-align: right;\n",
       "    }\n",
       "</style>\n",
       "<table border=\"1\" class=\"dataframe\">\n",
       "  <thead>\n",
       "    <tr style=\"text-align: right;\">\n",
       "      <th></th>\n",
       "      <th>id</th>\n",
       "      <th>popularity</th>\n",
       "      <th>budget</th>\n",
       "      <th>revenue</th>\n",
       "      <th>runtime</th>\n",
       "      <th>vote_count</th>\n",
       "      <th>vote_average</th>\n",
       "      <th>release_year</th>\n",
       "      <th>budget_adj</th>\n",
       "      <th>revenue_adj</th>\n",
       "    </tr>\n",
       "  </thead>\n",
       "  <tbody>\n",
       "    <tr>\n",
       "      <th>count</th>\n",
       "      <td>3756.000000</td>\n",
       "      <td>3756.000000</td>\n",
       "      <td>3.756000e+03</td>\n",
       "      <td>3.756000e+03</td>\n",
       "      <td>3756.000000</td>\n",
       "      <td>3756.000000</td>\n",
       "      <td>3756.000000</td>\n",
       "      <td>3756.000000</td>\n",
       "      <td>3.756000e+03</td>\n",
       "      <td>3.756000e+03</td>\n",
       "    </tr>\n",
       "    <tr>\n",
       "      <th>mean</th>\n",
       "      <td>40557.264643</td>\n",
       "      <td>1.194688</td>\n",
       "      <td>3.752862e+07</td>\n",
       "      <td>1.082386e+08</td>\n",
       "      <td>109.177316</td>\n",
       "      <td>530.734824</td>\n",
       "      <td>6.164004</td>\n",
       "      <td>2001.538339</td>\n",
       "      <td>4.436703e+07</td>\n",
       "      <td>1.363931e+08</td>\n",
       "    </tr>\n",
       "    <tr>\n",
       "      <th>std</th>\n",
       "      <td>67866.292487</td>\n",
       "      <td>1.486161</td>\n",
       "      <td>4.244601e+07</td>\n",
       "      <td>1.770478e+08</td>\n",
       "      <td>19.879316</td>\n",
       "      <td>885.741290</td>\n",
       "      <td>0.794936</td>\n",
       "      <td>11.061930</td>\n",
       "      <td>4.498007e+07</td>\n",
       "      <td>2.158969e+08</td>\n",
       "    </tr>\n",
       "    <tr>\n",
       "      <th>min</th>\n",
       "      <td>5.000000</td>\n",
       "      <td>0.001117</td>\n",
       "      <td>1.000000e+00</td>\n",
       "      <td>2.000000e+00</td>\n",
       "      <td>15.000000</td>\n",
       "      <td>10.000000</td>\n",
       "      <td>2.200000</td>\n",
       "      <td>1960.000000</td>\n",
       "      <td>9.693980e-01</td>\n",
       "      <td>2.370705e+00</td>\n",
       "    </tr>\n",
       "    <tr>\n",
       "      <th>25%</th>\n",
       "      <td>6430.000000</td>\n",
       "      <td>0.463133</td>\n",
       "      <td>1.000000e+07</td>\n",
       "      <td>1.358668e+07</td>\n",
       "      <td>95.000000</td>\n",
       "      <td>71.000000</td>\n",
       "      <td>5.675000</td>\n",
       "      <td>1996.000000</td>\n",
       "      <td>1.319180e+07</td>\n",
       "      <td>1.830994e+07</td>\n",
       "    </tr>\n",
       "    <tr>\n",
       "      <th>50%</th>\n",
       "      <td>11370.500000</td>\n",
       "      <td>0.798343</td>\n",
       "      <td>2.400000e+07</td>\n",
       "      <td>4.483448e+07</td>\n",
       "      <td>105.000000</td>\n",
       "      <td>205.000000</td>\n",
       "      <td>6.200000</td>\n",
       "      <td>2004.000000</td>\n",
       "      <td>3.014881e+07</td>\n",
       "      <td>6.092554e+07</td>\n",
       "    </tr>\n",
       "    <tr>\n",
       "      <th>75%</th>\n",
       "      <td>39713.500000</td>\n",
       "      <td>1.374400</td>\n",
       "      <td>5.000000e+07</td>\n",
       "      <td>1.256217e+08</td>\n",
       "      <td>119.000000</td>\n",
       "      <td>581.250000</td>\n",
       "      <td>6.700000</td>\n",
       "      <td>2010.000000</td>\n",
       "      <td>6.061307e+07</td>\n",
       "      <td>1.619430e+08</td>\n",
       "    </tr>\n",
       "    <tr>\n",
       "      <th>max</th>\n",
       "      <td>417859.000000</td>\n",
       "      <td>32.985763</td>\n",
       "      <td>4.250000e+08</td>\n",
       "      <td>2.781506e+09</td>\n",
       "      <td>338.000000</td>\n",
       "      <td>9767.000000</td>\n",
       "      <td>8.400000</td>\n",
       "      <td>2015.000000</td>\n",
       "      <td>4.250000e+08</td>\n",
       "      <td>2.827124e+09</td>\n",
       "    </tr>\n",
       "  </tbody>\n",
       "</table>\n",
       "</div>"
      ],
      "text/plain": [
       "                  id   popularity        budget       revenue      runtime  \\\n",
       "count    3756.000000  3756.000000  3.756000e+03  3.756000e+03  3756.000000   \n",
       "mean    40557.264643     1.194688  3.752862e+07  1.082386e+08   109.177316   \n",
       "std     67866.292487     1.486161  4.244601e+07  1.770478e+08    19.879316   \n",
       "min         5.000000     0.001117  1.000000e+00  2.000000e+00    15.000000   \n",
       "25%      6430.000000     0.463133  1.000000e+07  1.358668e+07    95.000000   \n",
       "50%     11370.500000     0.798343  2.400000e+07  4.483448e+07   105.000000   \n",
       "75%     39713.500000     1.374400  5.000000e+07  1.256217e+08   119.000000   \n",
       "max    417859.000000    32.985763  4.250000e+08  2.781506e+09   338.000000   \n",
       "\n",
       "        vote_count  vote_average  release_year    budget_adj   revenue_adj  \n",
       "count  3756.000000   3756.000000   3756.000000  3.756000e+03  3.756000e+03  \n",
       "mean    530.734824      6.164004   2001.538339  4.436703e+07  1.363931e+08  \n",
       "std     885.741290      0.794936     11.061930  4.498007e+07  2.158969e+08  \n",
       "min      10.000000      2.200000   1960.000000  9.693980e-01  2.370705e+00  \n",
       "25%      71.000000      5.675000   1996.000000  1.319180e+07  1.830994e+07  \n",
       "50%     205.000000      6.200000   2004.000000  3.014881e+07  6.092554e+07  \n",
       "75%     581.250000      6.700000   2010.000000  6.061307e+07  1.619430e+08  \n",
       "max    9767.000000      8.400000   2015.000000  4.250000e+08  2.827124e+09  "
      ]
     },
     "execution_count": 16,
     "metadata": {},
     "output_type": "execute_result"
    }
   ],
   "source": [
    "# Summarize the data\n",
    "df.describe()"
   ]
  },
  {
   "cell_type": "markdown",
   "metadata": {},
   "source": [
    "For the purpose of this analysis, I only use the first genre to represent the genres of the movies."
   ]
  },
  {
   "cell_type": "code",
   "execution_count": 17,
   "metadata": {
    "scrolled": false
   },
   "outputs": [
    {
     "data": {
      "text/html": [
       "<div>\n",
       "<style scoped>\n",
       "    .dataframe tbody tr th:only-of-type {\n",
       "        vertical-align: middle;\n",
       "    }\n",
       "\n",
       "    .dataframe tbody tr th {\n",
       "        vertical-align: top;\n",
       "    }\n",
       "\n",
       "    .dataframe thead th {\n",
       "        text-align: right;\n",
       "    }\n",
       "</style>\n",
       "<table border=\"1\" class=\"dataframe\">\n",
       "  <thead>\n",
       "    <tr style=\"text-align: right;\">\n",
       "      <th></th>\n",
       "      <th>id</th>\n",
       "      <th>popularity</th>\n",
       "      <th>budget</th>\n",
       "      <th>revenue</th>\n",
       "      <th>original_title</th>\n",
       "      <th>runtime</th>\n",
       "      <th>genres</th>\n",
       "      <th>vote_count</th>\n",
       "      <th>vote_average</th>\n",
       "      <th>release_year</th>\n",
       "      <th>budget_adj</th>\n",
       "      <th>revenue_adj</th>\n",
       "    </tr>\n",
       "  </thead>\n",
       "  <tbody>\n",
       "    <tr>\n",
       "      <th>0</th>\n",
       "      <td>135397</td>\n",
       "      <td>32.985763</td>\n",
       "      <td>150000000</td>\n",
       "      <td>1513528810</td>\n",
       "      <td>Jurassic World</td>\n",
       "      <td>124</td>\n",
       "      <td>Action</td>\n",
       "      <td>5562</td>\n",
       "      <td>6.5</td>\n",
       "      <td>2015</td>\n",
       "      <td>1.379999e+08</td>\n",
       "      <td>1.392446e+09</td>\n",
       "    </tr>\n",
       "    <tr>\n",
       "      <th>1</th>\n",
       "      <td>76341</td>\n",
       "      <td>28.419936</td>\n",
       "      <td>150000000</td>\n",
       "      <td>378436354</td>\n",
       "      <td>Mad Max: Fury Road</td>\n",
       "      <td>120</td>\n",
       "      <td>Action</td>\n",
       "      <td>6185</td>\n",
       "      <td>7.1</td>\n",
       "      <td>2015</td>\n",
       "      <td>1.379999e+08</td>\n",
       "      <td>3.481613e+08</td>\n",
       "    </tr>\n",
       "  </tbody>\n",
       "</table>\n",
       "</div>"
      ],
      "text/plain": [
       "       id  popularity     budget     revenue      original_title  runtime  \\\n",
       "0  135397   32.985763  150000000  1513528810      Jurassic World      124   \n",
       "1   76341   28.419936  150000000   378436354  Mad Max: Fury Road      120   \n",
       "\n",
       "   genres  vote_count  vote_average  release_year    budget_adj   revenue_adj  \n",
       "0  Action        5562           6.5          2015  1.379999e+08  1.392446e+09  \n",
       "1  Action        6185           7.1          2015  1.379999e+08  3.481613e+08  "
      ]
     },
     "execution_count": 17,
     "metadata": {},
     "output_type": "execute_result"
    }
   ],
   "source": [
    "df['genres'] = df['genres'].str.split('|').str[0]\n",
    "df.head(2)"
   ]
  },
  {
   "cell_type": "markdown",
   "metadata": {},
   "source": [
    "I had to convert the budget, revenue, adjusted budget, and adjusted revenue columns to integers to make the process smoother:"
   ]
  },
  {
   "cell_type": "code",
   "execution_count": 18,
   "metadata": {},
   "outputs": [
    {
     "data": {
      "text/html": [
       "<div>\n",
       "<style scoped>\n",
       "    .dataframe tbody tr th:only-of-type {\n",
       "        vertical-align: middle;\n",
       "    }\n",
       "\n",
       "    .dataframe tbody tr th {\n",
       "        vertical-align: top;\n",
       "    }\n",
       "\n",
       "    .dataframe thead th {\n",
       "        text-align: right;\n",
       "    }\n",
       "</style>\n",
       "<table border=\"1\" class=\"dataframe\">\n",
       "  <thead>\n",
       "    <tr style=\"text-align: right;\">\n",
       "      <th></th>\n",
       "      <th>id</th>\n",
       "      <th>popularity</th>\n",
       "      <th>budget</th>\n",
       "      <th>revenue</th>\n",
       "      <th>original_title</th>\n",
       "      <th>runtime</th>\n",
       "      <th>genres</th>\n",
       "      <th>vote_count</th>\n",
       "      <th>vote_average</th>\n",
       "      <th>release_year</th>\n",
       "      <th>budget_adj</th>\n",
       "      <th>revenue_adj</th>\n",
       "    </tr>\n",
       "  </thead>\n",
       "  <tbody>\n",
       "    <tr>\n",
       "      <th>0</th>\n",
       "      <td>135397</td>\n",
       "      <td>32.985763</td>\n",
       "      <td>150000000</td>\n",
       "      <td>1513528810</td>\n",
       "      <td>Jurassic World</td>\n",
       "      <td>124</td>\n",
       "      <td>Action</td>\n",
       "      <td>5562</td>\n",
       "      <td>6.5</td>\n",
       "      <td>2015</td>\n",
       "      <td>137999939</td>\n",
       "      <td>1392445892</td>\n",
       "    </tr>\n",
       "    <tr>\n",
       "      <th>1</th>\n",
       "      <td>76341</td>\n",
       "      <td>28.419936</td>\n",
       "      <td>150000000</td>\n",
       "      <td>378436354</td>\n",
       "      <td>Mad Max: Fury Road</td>\n",
       "      <td>120</td>\n",
       "      <td>Action</td>\n",
       "      <td>6185</td>\n",
       "      <td>7.1</td>\n",
       "      <td>2015</td>\n",
       "      <td>137999939</td>\n",
       "      <td>348161292</td>\n",
       "    </tr>\n",
       "  </tbody>\n",
       "</table>\n",
       "</div>"
      ],
      "text/plain": [
       "       id  popularity     budget     revenue      original_title  runtime  \\\n",
       "0  135397   32.985763  150000000  1513528810      Jurassic World      124   \n",
       "1   76341   28.419936  150000000   378436354  Mad Max: Fury Road      120   \n",
       "\n",
       "   genres  vote_count  vote_average  release_year  budget_adj  revenue_adj  \n",
       "0  Action        5562           6.5          2015   137999939   1392445892  \n",
       "1  Action        6185           7.1          2015   137999939    348161292  "
      ]
     },
     "execution_count": 18,
     "metadata": {},
     "output_type": "execute_result"
    }
   ],
   "source": [
    "df = df.astype({'budget':'int','revenue':'int','budget_adj':'int',\n",
    "                'revenue_adj':'int'})\n",
    "df.head(2)"
   ]
  },
  {
   "cell_type": "markdown",
   "metadata": {},
   "source": [
    "<a id='eda'></a>\n",
    "## Exploratory Data Analysis\n",
    "\n",
    ">Here, I computed statistics and create visualizations with the goal of addressing the research questions posed in the Introduction section."
   ]
  },
  {
   "cell_type": "markdown",
   "metadata": {},
   "source": [
    "I identified some key information about the dataset.\n",
    "\n",
    "\n",
    "### Most popular movies in each year\n",
    "\n",
    "First, I took a look at the most popular movies in each year:"
   ]
  },
  {
   "cell_type": "code",
   "execution_count": 19,
   "metadata": {},
   "outputs": [
    {
     "name": "stdout",
     "output_type": "stream",
     "text": [
      "       release_year                                     original_title\n",
      "10142          1960                              The Magnificent Seven\n",
      "10110          1961                     One Hundred and One Dalmatians\n",
      "9849           1962                                             Dr. No\n",
      "10438          1963                              From Russia With Love\n",
      "9881           1964                                         Goldfinger\n",
      "10689          1965                                        Thunderball\n",
      "10822          1966                    Who's Afraid of Virginia Woolf?\n",
      "10399          1967                                       The Graduate\n",
      "9719           1968                              2001: A Space Odyssey\n",
      "10724          1969                    On Her Majesty's Secret Service\n",
      "10648          1970                                     The Aristocats\n",
      "9923           1971                                 A Clockwork Orange\n",
      "7269           1972                                      The Godfather\n",
      "10594          1973                                       The Exorcist\n",
      "9758           1974                             The Godfather: Part II\n",
      "9805           1975                    One Flew Over the Cuckoo's Nest\n",
      "10173          1976                                        Taxi Driver\n",
      "1329           1977                                          Star Wars\n",
      "10755          1978                                             Grease\n",
      "7825           1979                                              Alien\n",
      "7309           1980                            The Empire Strikes Back\n",
      "8375           1981                            Raiders of the Lost Ark\n",
      "8888           1982                                       Blade Runner\n",
      "7987           1983                                 Return of the Jedi\n",
      "7882           1984                                     The Terminator\n",
      "6081           1985                                 Back to the Future\n",
      "10472          1986                                             Aliens\n",
      "9594           1987                                           Predator\n",
      "9449           1988                                           Die Hard\n",
      "9179           1989                                 The Little Mermaid\n",
      "9979           1990                                         Goodfellas\n",
      "9317           1991                         Terminator 2: Judgment Day\n",
      "8242           1992                                     Reservoir Dogs\n",
      "10220          1993                                      Groundhog Day\n",
      "4177           1994                                       Pulp Fiction\n",
      "8067           1995                                              Se7en\n",
      "8457           1996                                   Independence Day\n",
      "5231           1997                                            Titanic\n",
      "8969           1998                                    The Truman Show\n",
      "2409           1999                                         Fight Club\n",
      "8662           2000                                            Memento\n",
      "2633           2001  The Lord of the Rings: The Fellowship of the Ring\n",
      "3911           2002              The Lord of the Rings: The Two Towers\n",
      "4949           2003      The Lord of the Rings: The Return of the King\n",
      "6962           2004           Harry Potter and the Prisoner of Azkaban\n",
      "6190           2005                Harry Potter and the Goblet of Fire\n",
      "6554           2006                              Underworld: Evolution\n",
      "7387           2007           Pirates of the Caribbean: At World's End\n",
      "2875           2008                                    The Dark Knight\n",
      "1386           2009                                             Avatar\n",
      "1919           2010                                          Inception\n",
      "3372           2011                 Captain America: The First Avenger\n",
      "4361           2012                                       The Avengers\n",
      "5423           2013                                            Gravity\n",
      "629            2014                                       Interstellar\n",
      "0              2015                                     Jurassic World\n"
     ]
    }
   ],
   "source": [
    "# group by release_year and find the movie with the highest popularity in each year:\n",
    "high_rate = df.loc[df.groupby(['release_year'])['popularity'].idxmax()]\n",
    "print(high_rate[['release_year', 'original_title']])"
   ]
  },
  {
   "cell_type": "markdown",
   "metadata": {},
   "source": [
    "### Highest earning movie for each year\n",
    "\n",
    "Next, I took a look at the highest earning movie for each year:"
   ]
  },
  {
   "cell_type": "code",
   "execution_count": 20,
   "metadata": {},
   "outputs": [
    {
     "name": "stdout",
     "output_type": "stream",
     "text": [
      "       release_year                                 original_title  \\\n",
      "10144          1960                                  The Apartment   \n",
      "10110          1961                 One Hundred and One Dalmatians   \n",
      "9850           1962                             Lawrence of Arabia   \n",
      "10438          1963                          From Russia With Love   \n",
      "9881           1964                                     Goldfinger   \n",
      "10690          1965                             The Sound of Music   \n",
      "10822          1966                Who's Afraid of Virginia Woolf?   \n",
      "10401          1967                            You Only Live Twice   \n",
      "9719           1968                          2001: A Space Odyssey   \n",
      "10725          1969             Butch Cassidy and the Sundance Kid   \n",
      "10654          1970                                     Love Story   \n",
      "9925           1971                           Diamonds Are Forever   \n",
      "7269           1972                                  The Godfather   \n",
      "10595          1973                               Live and Let Die   \n",
      "9767           1974                                Blazing Saddles   \n",
      "9806           1975                                           Jaws   \n",
      "10208          1976                                 A Star Is Born   \n",
      "1334           1977             Close Encounters of the Third Kind   \n",
      "10758          1978                                       Superman   \n",
      "7829           1979                                      Moonraker   \n",
      "7309           1980                        The Empire Strikes Back   \n",
      "8375           1981                        Raiders of the Lost Ark   \n",
      "8889           1982                     E.T. the Extra-Terrestrial   \n",
      "7987           1983                             Return of the Jedi   \n",
      "7883           1984           Indiana Jones and the Temple of Doom   \n",
      "6081           1985                             Back to the Future   \n",
      "10475          1986                                        Top Gun   \n",
      "9613           1987                               Fatal Attraction   \n",
      "9454           1988                                       Rain Man   \n",
      "9180           1989             Indiana Jones and the Last Crusade   \n",
      "9986           1990                                          Ghost   \n",
      "9317           1991                     Terminator 2: Judgment Day   \n",
      "8243           1992                                        Aladdin   \n",
      "10223          1993                                  Jurassic Park   \n",
      "4180           1994                                  The Lion King   \n",
      "8094           1995                                        The Net   \n",
      "8457           1996                               Independence Day   \n",
      "5233           1997                                   Men in Black   \n",
      "8970           1998                                     Armageddon   \n",
      "2412           1999      Star Wars: Episode I - The Phantom Menace   \n",
      "8666           2000                         Mission: Impossible II   \n",
      "2634           2001       Harry Potter and the Philosopher's Stone   \n",
      "3911           2002          The Lord of the Rings: The Two Towers   \n",
      "4949           2003  The Lord of the Rings: The Return of the King   \n",
      "6977           2004                                        Shrek 2   \n",
      "6190           2005            Harry Potter and the Goblet of Fire   \n",
      "6555           2006     Pirates of the Caribbean: Dead Man's Chest   \n",
      "7387           2007       Pirates of the Caribbean: At World's End   \n",
      "2875           2008                                The Dark Knight   \n",
      "1389           2009         Harry Potter and the Half-Blood Prince   \n",
      "1930           2010                                    Toy Story 3   \n",
      "3374           2011   Harry Potter and the Deathly Hallows: Part 2   \n",
      "4361           2012                                   The Avengers   \n",
      "5425           2013                                     Iron Man 3   \n",
      "634            2014      The Hobbit: The Battle of the Five Armies   \n",
      "3              2015                   Star Wars: The Force Awakens   \n",
      "\n",
      "                genres  \n",
      "10144           Comedy  \n",
      "10110        Adventure  \n",
      "9850         Adventure  \n",
      "10438           Action  \n",
      "9881         Adventure  \n",
      "10690            Drama  \n",
      "10822            Drama  \n",
      "10401           Action  \n",
      "9719   Science Fiction  \n",
      "10725          History  \n",
      "10654            Drama  \n",
      "9925         Adventure  \n",
      "7269             Drama  \n",
      "10595        Adventure  \n",
      "9767            Comedy  \n",
      "9806            Horror  \n",
      "10208            Drama  \n",
      "1334   Science Fiction  \n",
      "10758        Adventure  \n",
      "7829            Action  \n",
      "7309         Adventure  \n",
      "8375         Adventure  \n",
      "8889   Science Fiction  \n",
      "7987         Adventure  \n",
      "7883         Adventure  \n",
      "6081         Adventure  \n",
      "10475            Drama  \n",
      "9613            Horror  \n",
      "9454             Drama  \n",
      "9180         Adventure  \n",
      "9986           Fantasy  \n",
      "9317            Action  \n",
      "8243         Animation  \n",
      "10223        Adventure  \n",
      "4180            Family  \n",
      "8094             Crime  \n",
      "8457            Action  \n",
      "5233            Action  \n",
      "8970            Action  \n",
      "2412         Adventure  \n",
      "8666         Adventure  \n",
      "2634         Adventure  \n",
      "3911         Adventure  \n",
      "4949         Adventure  \n",
      "6977         Adventure  \n",
      "6190         Adventure  \n",
      "6555         Adventure  \n",
      "7387         Adventure  \n",
      "2875             Drama  \n",
      "1389         Adventure  \n",
      "1930         Animation  \n",
      "3374         Adventure  \n",
      "4361   Science Fiction  \n",
      "5425            Action  \n",
      "634          Adventure  \n",
      "3               Action  \n"
     ]
    }
   ],
   "source": [
    "# group by release_year and find the movie with the maximum revenue for each year\n",
    "high_earn = df.loc[df.groupby(['release_year'])['revenue_adj'].idxmax()]\n",
    "print(high_earn[['release_year', 'original_title', 'genres']])"
   ]
  },
  {
   "cell_type": "markdown",
   "metadata": {},
   "source": [
    "### Highest rated movies in each genre\n",
    "\n",
    "Then, I took a look at the highest rated movies in each genre:"
   ]
  },
  {
   "cell_type": "code",
   "execution_count": 21,
   "metadata": {
    "scrolled": true
   },
   "outputs": [
    {
     "name": "stdout",
     "output_type": "stream",
     "text": [
      "               genres                  original_title\n",
      "630            Action         Guardians of the Galaxy\n",
      "629         Adventure                    Interstellar\n",
      "1390        Animation                              Up\n",
      "4179           Comedy                    Forrest Gump\n",
      "5428            Crime         The Wolf of Wall Street\n",
      "7948      Documentary               Stop Making Sense\n",
      "4178            Drama        The Shawshank Redemption\n",
      "4180           Family                   The Lion King\n",
      "2414          Fantasy                  The Green Mile\n",
      "636           History              The Imitation Game\n",
      "7825           Horror                           Alien\n",
      "7312            Music              The Blues Brothers\n",
      "639           Mystery                       Gone Girl\n",
      "694           Romance          The Fault in Our Stars\n",
      "1438  Science Fiction                      Mr. Nobody\n",
      "8615         TV Movie                      Doctor Who\n",
      "4177         Thriller                    Pulp Fiction\n",
      "2905              War  The Boy in the Striped Pyjamas\n",
      "8261          Western                      Unforgiven\n"
     ]
    }
   ],
   "source": [
    "# group by genre and find the movie with the maximum vote_average in each genre\n",
    "rate_genre = df.loc[df.groupby(['genres'])['vote_average'].idxmax()]\n",
    "print(rate_genre[['genres', 'original_title']])"
   ]
  },
  {
   "cell_type": "markdown",
   "metadata": {},
   "source": [
    "### Highest earning movies in each genre\n",
    "\n",
    "Also, I took a look at the highest earning movies in each genre:"
   ]
  },
  {
   "cell_type": "code",
   "execution_count": 22,
   "metadata": {},
   "outputs": [
    {
     "name": "stdout",
     "output_type": "stream",
     "text": [
      "                genres                         original_title\n",
      "3               Action           Star Wars: The Force Awakens\n",
      "10110        Adventure         One Hundred and One Dalmatians\n",
      "1930         Animation                            Toy Story 3\n",
      "4179            Comedy                           Forrest Gump\n",
      "8094             Crime                                The Net\n",
      "7049       Documentary                        Fahrenheit 9/11\n",
      "7269             Drama                          The Godfather\n",
      "4180            Family                          The Lion King\n",
      "3916           Fantasy                             Spider-Man\n",
      "10725          History     Butch Cassidy and the Sundance Kid\n",
      "9806            Horror                                   Jaws\n",
      "10755            Music                                 Grease\n",
      "2415           Mystery                        The Sixth Sense\n",
      "9983           Romance                           Pretty Woman\n",
      "8889   Science Fiction             E.T. the Extra-Terrestrial\n",
      "8615          TV Movie                             Doctor Who\n",
      "6558          Thriller                      The Da Vinci Code\n",
      "19                 War  The Hunger Games: Mockingjay - Part 2\n",
      "5              Western                           The Revenant\n"
     ]
    }
   ],
   "source": [
    "# group by genre and find the maximum revenue for each genre\n",
    "earn_genre = df.loc[df.groupby(['genres'])['revenue_adj'].idxmax()]\n",
    "print(earn_genre[['genres', 'original_title']])"
   ]
  },
  {
   "cell_type": "markdown",
   "metadata": {},
   "source": [
    "### Genres that earned the most money\n",
    "\n",
    "To find the genres that earned the most money, group by genre and find the sum of its revenue: "
   ]
  },
  {
   "cell_type": "code",
   "execution_count": 23,
   "metadata": {},
   "outputs": [],
   "source": [
    "# group by genres and find the sum of revenue\n",
    "sums = df.groupby('genres').sum()"
   ]
  },
  {
   "cell_type": "code",
   "execution_count": 24,
   "metadata": {},
   "outputs": [],
   "source": [
    "# list of genres\n",
    "gen = df['genres'].unique()"
   ]
  },
  {
   "cell_type": "code",
   "execution_count": 25,
   "metadata": {},
   "outputs": [
    {
     "data": {
      "image/png": "[encoded data removed]",
      "text/plain": [
       "<Figure size 1080x576 with 1 Axes>"
      ]
     },
     "metadata": {
      "needs_background": "light"
     },
     "output_type": "display_data"
    }
   ],
   "source": [
    "#plot the bar chart\n",
    "rev = list(sums['revenue_adj'].sort_values(ascending=False))\n",
    "\n",
    "# specify the qualities of the bar chart\n",
    "plt.figure(figsize=(15, 8))\n",
    "plt.bar(gen, rev, color ='maroon', width = 0.6, align = 'center')\n",
    "plt.xticks(rotation = 50, color='black')\n",
    "plt.title('GENRES THAT EARNED THE MOST MONEY', color='black')\n",
    "plt.xlabel('Genre', color='black')\n",
    "plt.ylabel('Total Revenue', color='black')\n",
    "plt.show()"
   ]
  },
  {
   "cell_type": "markdown",
   "metadata": {},
   "source": [
    "**Action** movies earn the most money while **TV Movies** earn the least."
   ]
  },
  {
   "cell_type": "markdown",
   "metadata": {},
   "source": [
    "### Highest Rated Movies\n",
    "Then, I found the top ten highest rated movies of all time:"
   ]
  },
  {
   "cell_type": "code",
   "execution_count": 26,
   "metadata": {},
   "outputs": [
    {
     "data": {
      "image/png": "[encoded data removed]",
      "text/plain": [
       "<Figure size 720x360 with 1 Axes>"
      ]
     },
     "metadata": {
      "needs_background": "light"
     },
     "output_type": "display_data"
    }
   ],
   "source": [
    "# find the top 10 highest vote_average:\n",
    "df_1 = df.sort_values('vote_average',ascending=False)\n",
    "top_ten_rated = df_1[:10]\n",
    "\n",
    "# list of titles of top ten rated movies\n",
    "rated_title = list(top_ten_rated['original_title'])\n",
    "\n",
    "#list of ratings for top ten rated movies\n",
    "rated_rating = list(top_ten_rated['vote_average'])\n",
    "\n",
    "# plot a bar chart\n",
    "plt.figure(figsize=(10, 5))\n",
    "plt.bar(rated_title, rated_rating, width = 0.6, align = 'center')\n",
    "plt.xticks(rotation = 50, color='black')\n",
    "plt.ylim(bottom=8, top=8.45)\n",
    "plt.title('TOP TEN HIGHEST RATED MOVIES', color='black')\n",
    "plt.xlabel('Title', color='black')\n",
    "plt.ylabel('Rating', color='black')\n",
    "plt.show()"
   ]
  },
  {
   "cell_type": "markdown",
   "metadata": {},
   "source": [
    "How fascinating! **Shawshank Redemption** is the highest rated movie."
   ]
  },
  {
   "cell_type": "markdown",
   "metadata": {},
   "source": [
    "### Highest earning movies\n",
    "Then, I found the top ten highest earning movies:"
   ]
  },
  {
   "cell_type": "code",
   "execution_count": 27,
   "metadata": {},
   "outputs": [
    {
     "data": {
      "image/png": "[encoded data removed]",
      "text/plain": [
       "<Figure size 720x360 with 1 Axes>"
      ]
     },
     "metadata": {
      "needs_background": "light"
     },
     "output_type": "display_data"
    }
   ],
   "source": [
    "# find the top 10 highest revenue_adj:\n",
    "df_2 = df.sort_values('revenue_adj',ascending=False)\n",
    "top_ten_earning = df_2[:10]\n",
    "\n",
    "# list of titles of top ten highest earning movies\n",
    "earn_title = list(top_ten_earning['original_title'])\n",
    "\n",
    "#list of ratings for top ten highest earning movies\n",
    "earn_rating = list(top_ten_earning['revenue_adj'])\n",
    "\n",
    "# plot a bar chart\n",
    "plt.figure(figsize=(10, 5))\n",
    "plt.bar(earn_title, earn_rating, width = 0.6, align = 'center')\n",
    "plt.xticks(rotation = 75, color='black')\n",
    "plt.ylim(bottom=1.3e9)\n",
    "plt.title('TOP TEN HIGHEST EARNING MOVIES', color='black')\n",
    "plt.xlabel('Title', color='black')\n",
    "plt.ylabel('Adjusted Revenue', color='black')\n",
    "plt.show()"
   ]
  },
  {
   "cell_type": "markdown",
   "metadata": {},
   "source": [
    "**Jaws** is the highest earning movie with over **1.9 billion dollars** in revenue."
   ]
  },
  {
   "cell_type": "markdown",
   "metadata": {},
   "source": [
    "#### Important note:\n",
    "> For this portion of the analysis, I did not only make use of scatterplots but I added the lines of best fit to determine correlation between variables\n",
    "\n",
    "## Question 1\n",
    "### Does the budget of a movie correlate with how well it does based on its average rating?"
   ]
  },
  {
   "cell_type": "markdown",
   "metadata": {},
   "source": [
    "To check this, I plotted a scatter plot of adjusted budget versus the average rating:"
   ]
  },
  {
   "cell_type": "code",
   "execution_count": 28,
   "metadata": {
    "scrolled": true
   },
   "outputs": [
    {
     "data": {
      "image/png": "[encoded data removed]",
      "text/plain": [
       "<Figure size 720x360 with 1 Axes>"
      ]
     },
     "metadata": {
      "needs_background": "light"
     },
     "output_type": "display_data"
    }
   ],
   "source": [
    "# line of best fit\n",
    "x1 = df['budget_adj']\n",
    "y1 = df['vote_average']\n",
    "a, b = np.polyfit(x1, y1, 1)\n",
    "\n",
    "#add points and plot\n",
    "plt.figure(figsize=(10, 5))\n",
    "plt.scatter(x1, y1)\n",
    "\n",
    "#add line of best fit to plot\n",
    "plt.plot(x1, a*x1+b, color = 'red')\n",
    "\n",
    "# scatterplot qualities\n",
    "plt.title('ADJUSTED BUDGET VERSUS AVERAGE RATING', color='black')\n",
    "plt.xlabel('Adjusted Budget', color='black')\n",
    "plt.ylabel('Average Rating', color='black')\n",
    "plt.show()"
   ]
  },
  {
   "cell_type": "markdown",
   "metadata": {},
   "source": [
    "From this plot, there isn't exactly any correlation between the budget of a movie and how well it is rated."
   ]
  },
  {
   "cell_type": "markdown",
   "metadata": {},
   "source": [
    "## Question 2\n",
    "### Does the budget of a movie correlate with its revenue?"
   ]
  },
  {
   "cell_type": "markdown",
   "metadata": {},
   "source": [
    "To check this, I plotted a scatter plot of adjusted budget versus adjusted revenue:"
   ]
  },
  {
   "cell_type": "code",
   "execution_count": 29,
   "metadata": {},
   "outputs": [
    {
     "data": {
      "image/png": "[encoded data removed]",
      "text/plain": [
       "<Figure size 720x360 with 1 Axes>"
      ]
     },
     "metadata": {
      "needs_background": "light"
     },
     "output_type": "display_data"
    }
   ],
   "source": [
    "#line of best fit\n",
    "y2 = df['revenue_adj']\n",
    "a, b = np.polyfit(x1, y2, 1)\n",
    "\n",
    "#add points and plot\n",
    "plt.figure(figsize=(10, 5))\n",
    "plt.scatter(x1, y2)\n",
    "\n",
    "#add line of best fit to plot\n",
    "plt.plot(x1, a*x1+b, color = 'red')\n",
    "\n",
    "# scatterplot qualities\n",
    "plt.title('ADJUSTED BUDGET VERSUS REVENUE', color='black')\n",
    "plt.ylim(bottom=0)\n",
    "plt.xlabel('Ajusted Budget', color='black')\n",
    "plt.ylabel('Adjusted Revenue', color='black')\n",
    "plt.show()"
   ]
  },
  {
   "cell_type": "markdown",
   "metadata": {},
   "source": [
    "From this plot, there is a positive correlation between the budget of a movie and its revenue. In other words, **the higher the budget of a movie, the more likely it is to generate higher revenue.**"
   ]
  },
  {
   "cell_type": "markdown",
   "metadata": {},
   "source": [
    "## Question 3\n",
    "\n",
    "### Do longer movies have higher ratings?\n",
    "\n",
    "To check this, I plotted a scatter plot of runtime versus average rating:"
   ]
  },
  {
   "cell_type": "code",
   "execution_count": 30,
   "metadata": {},
   "outputs": [
    {
     "data": {
      "image/png": "[encoded data removed]",
      "text/plain": [
       "<Figure size 720x360 with 1 Axes>"
      ]
     },
     "metadata": {
      "needs_background": "light"
     },
     "output_type": "display_data"
    }
   ],
   "source": [
    "# line of best fit\n",
    "x2 = df['runtime']\n",
    "a, b = np.polyfit(x2, y1, 1)\n",
    "\n",
    "#add points and plot\n",
    "plt.figure(figsize=(10, 5))\n",
    "plt.scatter(x2, y1)\n",
    "\n",
    "#add line of best fit to plot\n",
    "plt.plot(x2, a*x2+b, color = 'red')\n",
    "\n",
    "# scatterplot qualities\n",
    "plt.title('RUNTIME VERSUS RATING', color='black')\n",
    "plt.xlabel('Runtime', color='black')\n",
    "plt.ylabel('Average Rating', color='black')\n",
    "plt.show()"
   ]
  },
  {
   "cell_type": "markdown",
   "metadata": {},
   "source": [
    "From this plot, there is a positive correlation between the runtime of a movie and its average rating. In other words, **the longer the movie, the more likely it is to have a higher average rating.**"
   ]
  },
  {
   "cell_type": "markdown",
   "metadata": {},
   "source": [
    "## Question 4\n",
    "\n",
    "### Do longer movies earn more money?\n",
    "\n",
    "To check this, I plotted a scatter plot of runtime versus adjusted revenue:"
   ]
  },
  {
   "cell_type": "code",
   "execution_count": 31,
   "metadata": {},
   "outputs": [
    {
     "data": {
      "image/png": "[encoded data removed]",
      "text/plain": [
       "<Figure size 720x360 with 1 Axes>"
      ]
     },
     "metadata": {
      "needs_background": "light"
     },
     "output_type": "display_data"
    }
   ],
   "source": [
    "# line of best fit\n",
    "a, b = np.polyfit(x2, y2, 1)\n",
    "\n",
    "#add points and plot\n",
    "plt.figure(figsize=(10, 5))\n",
    "plt.scatter(x2, y2)\n",
    "\n",
    "#add line of best fit to plot\n",
    "plt.plot(x2, a*x2+b, color = 'red')\n",
    "\n",
    "# scatterplot qualities\n",
    "plt.ylim(bottom=0)\n",
    "plt.title('RUNTIME VERSUS ADJUSTED REVENUE', color='black')\n",
    "plt.xlabel('Runtime', color='black')\n",
    "plt.ylabel('Adjusted Revenue', color='black')\n",
    "plt.show()"
   ]
  },
  {
   "cell_type": "markdown",
   "metadata": {},
   "source": [
    "From this plot, there is a positive correlation between the runtime of a movie and the revenue it generates. In other words, **the longer the movie, the more likely it is generate more revenue.**"
   ]
  },
  {
   "cell_type": "markdown",
   "metadata": {},
   "source": [
    "## Question 5\n",
    "\n",
    "### Do higher earning movies have higher ratings?\n",
    "\n",
    "To check this, I plotted a scatter plot of adjusted revenue versus average rating:"
   ]
  },
  {
   "cell_type": "code",
   "execution_count": 32,
   "metadata": {},
   "outputs": [
    {
     "data": {
      "image/png": "[encoded data removed]",
      "text/plain": [
       "<Figure size 720x360 with 1 Axes>"
      ]
     },
     "metadata": {
      "needs_background": "light"
     },
     "output_type": "display_data"
    }
   ],
   "source": [
    "#line of best fit\n",
    "a, b = np.polyfit(y2, y1, 1)\n",
    "\n",
    "#add points and plot\n",
    "plt.figure(figsize=(10, 5))\n",
    "plt.scatter(y2, y1)\n",
    "\n",
    "#add line of best fit to plot\n",
    "plt.plot(y2, a*y2+b, color = 'red')\n",
    "\n",
    "# scatterplot qualities\n",
    "plt.title('ADJUSTED REVENUE VERSUS AVERAGE RATING', color='black')\n",
    "plt.xlim(left=0)\n",
    "plt.xlabel('Adjusted Revenue', color='black')\n",
    "plt.ylabel('Average Rating', color='black')\n",
    "plt.show()"
   ]
  },
  {
   "cell_type": "markdown",
   "metadata": {},
   "source": [
    "From this plot, there is a positive correlation between the revenue generated by a movie and the average rating it receives. In other words, **the higher the revenue generated by a movie, the more likely it is receive a higher rating.**"
   ]
  },
  {
   "cell_type": "markdown",
   "metadata": {},
   "source": [
    "<a id='conclusions'></a>\n",
    "## Conclusions\n",
    "From the analyses of this dataset, the following conclusions were made:\n",
    "1. There is no correlation between the **budget** of a movie and how well it is rated.\n",
    "2. The higher the **budget** of a movie, the more likely it is to generate higher **revenue**.\n",
    "3. The longer the movie, the more likely it is to have a higher average **rating**.\n",
    "4. The longer the movie, the more likely it is generate more **revenue**.\n",
    "5. The higher the **revenue** generated by a movie, the more likely it is receive a higher **rating**.\n",
    "\n",
    "> ### Limitations\n",
    "> There were a lot of rows that contained missing values in columns necessary for the analysis such as the adjusted budget and adjusted revenue and some duplicate rows, so they had to be deleted, which significantly reduced the total number of rows used for the analysis.\n",
    "\n",
    "\n",
    "\n",
    "This was an interesting dataset to investigate, as one who is new to life as a data analyst, it was quite tasking to investigate but it was worth it in the end.\n",
    "\n",
    "## Reference\n",
    "The codes I used that were not directly from the lessons from Udacity were learned from the W3schools website: https://www.w3schools.com/python"
   ]
  }
 ],
 "metadata": {
  "kernelspec": {
   "display_name": "Python 3 (ipykernel)",
   "language": "python",
   "name": "python3"
  },
  "language_info": {
   "codemirror_mode": {
    "name": "ipython",
    "version": 3
   },
   "file_extension": ".py",
   "mimetype": "text/x-python",
   "name": "python",
   "nbconvert_exporter": "python",
   "pygments_lexer": "ipython3",
   "version": "3.9.12"
  }
 },
 "nbformat": 4,
 "nbformat_minor": 2
}
